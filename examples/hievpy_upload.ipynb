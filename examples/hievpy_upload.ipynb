{
 "cells": [
  {
   "cell_type": "code",
   "execution_count": 1,
   "metadata": {},
   "outputs": [],
   "source": [
    "import hievpy as hp\n",
    "from pathlib import Path"
   ]
  },
  {
   "cell_type": "markdown",
   "metadata": {},
   "source": [
    "#### Import the credentials file and set the API token"
   ]
  },
  {
   "cell_type": "code",
   "execution_count": 2,
   "metadata": {},
   "outputs": [],
   "source": [
    "import credentials as c\n",
    "api_token = c.hiev_api_key"
   ]
  },
  {
   "cell_type": "markdown",
   "metadata": {},
   "source": [
    "#### Set the base URL of the HIEv instance being called against"
   ]
  },
  {
   "cell_type": "code",
   "execution_count": 3,
   "metadata": {},
   "outputs": [],
   "source": [
    "base_url = 'https://hiev.westernsydney.edu.au/'"
   ]
  },
  {
   "cell_type": "markdown",
   "metadata": {},
   "source": [
    "#### Set path of file to be uploaded"
   ]
  },
  {
   "cell_type": "code",
   "execution_count": 4,
   "metadata": {},
   "outputs": [],
   "source": [
    "upload_file = Path.cwd() / 'Uploads' / 'hievpy_test_upload_file'"
   ]
  },
  {
   "cell_type": "markdown",
   "metadata": {},
   "source": [
    "#### Set the metadata fields associated with the file being uploaded"
   ]
  },
  {
   "cell_type": "code",
   "execution_count": 5,
   "metadata": {},
   "outputs": [],
   "source": [
    "metadata = {'creator_email': 'g.devine@westernsydney.edu.au',\n",
    "            'description': 'Testing hievpy upload',\n",
    "            'start_time': '2018-03-01 00:00:00',\n",
    "            'end_time': '2018-03-01 23:59:59',\n",
    "            'experiment_id': 31,\n",
    "            'label_names': '\"Neutron Probe\",\"Soil Moisture\"',\n",
    "            'related_websites': '\"https://www.westernsydney.edu.au/hie\"',\n",
    "            'contributor_names[]': ['Tom Smith, t.smith@google.com',\n",
    "                                    'Jane White, J.White@aol.com',\n",
    "                                    'Frank Blank, f.black@yahoo.com'],\n",
    "            'type': 'PROCESSED'}"
   ]
  },
  {
   "cell_type": "markdown",
   "metadata": {},
   "source": [
    "#### Upload the file to HIEv"
   ]
  },
  {
   "cell_type": "code",
   "execution_count": 6,
   "metadata": {},
   "outputs": [
    {
     "name": "stdout",
     "output_type": "stream",
     "text": [
      "File successfully uploaded to HIEv\n"
     ]
    }
   ],
   "source": [
    "hp.upload(api_token, base_url, upload_file, metadata)"
   ]
  },
  {
   "cell_type": "code",
   "execution_count": null,
   "metadata": {},
   "outputs": [],
   "source": []
  }
 ],
 "metadata": {
  "kernelspec": {
   "display_name": "Data Analysis",
   "language": "python",
   "name": "data_analysis"
  },
  "language_info": {
   "codemirror_mode": {
    "name": "ipython",
    "version": 3
   },
   "file_extension": ".py",
   "mimetype": "text/x-python",
   "name": "python",
   "nbconvert_exporter": "python",
   "pygments_lexer": "ipython3",
   "version": "3.6.6"
  }
 },
 "nbformat": 4,
 "nbformat_minor": 2
}
